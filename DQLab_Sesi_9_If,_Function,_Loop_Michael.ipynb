{
  "nbformat": 4,
  "nbformat_minor": 0,
  "metadata": {
    "colab": {
      "provenance": []
    },
    "kernelspec": {
      "name": "python3",
      "display_name": "Python 3"
    },
    "language_info": {
      "name": "python"
    }
  },
  "cells": [
    {
      "cell_type": "code",
      "execution_count": null,
      "metadata": {
        "colab": {
          "base_uri": "https://localhost:8080/"
        },
        "id": "9V836X7wW0cZ",
        "outputId": "e661cbbe-5d24-4eac-efe9-0a2bfc11a7c7"
      },
      "outputs": [
        {
          "output_type": "stream",
          "name": "stdout",
          "text": [
            "[0, 5]\n"
          ]
        }
      ],
      "source": [
        "nama_orang = ['asep', 'amir', 'budi', 'cinta', 'edi', 'asep']\n",
        "\n",
        "asep = []\n",
        "for getIndex, getName in enumerate(nama_orang):\n",
        "    if getName == 'asep':\n",
        "        asep.append(getIndex)\n",
        "\n",
        "#asep = [getName for getIndex, getName in enumerate(nama_orang) if getName == 'asep']\n",
        "print(asep)"
      ]
    },
    {
      "cell_type": "code",
      "source": [
        "# nama_orang = ['asep', 'amir', 'budi', 'cinta', 'edi', 'asep']\n",
        "asep = []\n",
        "i = 0\n",
        "for name in nama_orang:\n",
        "    if name == 'asep':\n",
        "        asep.append(i)\n",
        "    i += 1\n",
        "print(asep)"
      ],
      "metadata": {
        "colab": {
          "base_uri": "https://localhost:8080/"
        },
        "id": "0MbFHaKgmbGo",
        "outputId": "a23257c8-1a91-4712-a66d-888ad6dcddc0"
      },
      "execution_count": null,
      "outputs": [
        {
          "output_type": "stream",
          "name": "stdout",
          "text": [
            "[0, 5]\n"
          ]
        }
      ]
    },
    {
      "cell_type": "code",
      "source": [
        "asep = [getName for getIndex, getName in enumerate(nama_orang) if getName == 'asep']\n",
        "print(asep)"
      ],
      "metadata": {
        "id": "0_52mM1ri0oc",
        "colab": {
          "base_uri": "https://localhost:8080/"
        },
        "outputId": "e31463e0-3508-47ea-88bf-9eedcc0242c5"
      },
      "execution_count": null,
      "outputs": [
        {
          "output_type": "stream",
          "name": "stdout",
          "text": [
            "['asep', 'asep']\n"
          ]
        }
      ]
    },
    {
      "cell_type": "code",
      "source": [
        "bilangan = [1, 2, 3, 4, 5, 6, 7, 8, 9, 10]\n",
        "bilangan_baru = []\n",
        "for bil in bilangan:\n",
        "    if bil % 2 == 0:\n",
        "        bilangan_baru.append(bil + 1)\n",
        "        #bilangan_baru.append(bil)\n",
        "    else:\n",
        "        bilangan_baru.append(bil + 2)\n",
        "print(bilangan_baru)\n",
        "\n",
        "#logic\n",
        "  # jika bilangan genap: tambah dengan 1\n",
        "  # jika bilangan ganjil: tambah dengan 2\n",
        "  # hasil penjumlahan masukkan ke dalam list yang baru\\\n",
        "# result = [3,3,5,5,...]"
      ],
      "metadata": {
        "id": "yzuvxXImi0hP",
        "colab": {
          "base_uri": "https://localhost:8080/"
        },
        "outputId": "94937ff1-3b73-4066-e3e2-5f8476117a4b"
      },
      "execution_count": null,
      "outputs": [
        {
          "output_type": "stream",
          "name": "stdout",
          "text": [
            "[3, 3, 5, 5, 7, 7, 9, 9, 11, 11]\n"
          ]
        }
      ]
    },
    {
      "cell_type": "code",
      "source": [
        "bils = [1, 2, 3, 4, 5, 6, 7, 8, 9, 10]\n",
        "\n",
        "def gan_gen(angka):\n",
        "  bils_baru = []\n",
        "  for bil in angka:\n",
        "    if bil % 2 == 0:\n",
        "      bils_baru.append(bil + 1)\n",
        "    else:\n",
        "      bils_baru.append(bil + 2)\n",
        "  return bils_baru\n",
        "\n",
        "print(gan_gen(bils))"
      ],
      "metadata": {
        "id": "APLlIeCNi0az",
        "colab": {
          "base_uri": "https://localhost:8080/"
        },
        "outputId": "aa2f0d19-4f18-4e01-b23a-bf5a26d3d6fc"
      },
      "execution_count": null,
      "outputs": [
        {
          "output_type": "stream",
          "name": "stdout",
          "text": [
            "[3, 3, 5, 5, 7, 7, 9, 9, 11, 11]\n"
          ]
        }
      ]
    },
    {
      "cell_type": "code",
      "source": [
        "z = 2 # Global Variable (outside the function)\n",
        "def f():\n",
        "    y = 1 # Local Variable (inside the function)\n",
        "    return z\n",
        "# f()\n",
        "\n"
      ],
      "metadata": {
        "id": "KFupgDEti0VG"
      },
      "execution_count": null,
      "outputs": []
    },
    {
      "cell_type": "code",
      "source": [
        "f()"
      ],
      "metadata": {
        "id": "2o9d8R-Wi0RB",
        "colab": {
          "base_uri": "https://localhost:8080/"
        },
        "outputId": "4101fe9a-2db1-40bd-cc84-96979a1fc0e8"
      },
      "execution_count": null,
      "outputs": [
        {
          "output_type": "execute_result",
          "data": {
            "text/plain": [
              "2"
            ]
          },
          "metadata": {},
          "execution_count": 7
        }
      ]
    },
    {
      "cell_type": "code",
      "source": [
        "nomor = [1, 2, 3, 4, 5, 6, 7, 8, 9, 10]\n",
        "def gangens(p):\n",
        "    if p % 2 == 0:\n",
        "      return p + 1\n",
        "    else:\n",
        "      return p + 2\n",
        "nom_baru = list(map(gangens, nomor))\n",
        "print(nom_baru)"
      ],
      "metadata": {
        "id": "q9xrIO12i0LO",
        "colab": {
          "base_uri": "https://localhost:8080/"
        },
        "outputId": "81bb2dfc-f3bf-45f2-df1e-03e5baff03ee"
      },
      "execution_count": null,
      "outputs": [
        {
          "output_type": "stream",
          "name": "stdout",
          "text": [
            "[3, 3, 5, 5, 7, 7, 9, 9, 11, 11]\n"
          ]
        }
      ]
    },
    {
      "cell_type": "code",
      "source": [
        "for q in range(10):\n",
        "  if q % 2 == 0:\n",
        "    continue\n",
        "  else:\n",
        "    print(q)\n",
        "# for q in range(10):\n",
        "#  if q % 2 == 0:\n",
        "#    print(q)\n",
        "#  else:\n",
        "#   break\n",
        "# Result would be 0"
      ],
      "metadata": {
        "id": "cHrNYZ7_i0Fg",
        "colab": {
          "base_uri": "https://localhost:8080/"
        },
        "outputId": "cfef6eac-70c7-4479-fa14-2634c11c31a4"
      },
      "execution_count": null,
      "outputs": [
        {
          "output_type": "stream",
          "name": "stdout",
          "text": [
            "1\n",
            "3\n",
            "5\n",
            "7\n",
            "9\n"
          ]
        }
      ]
    },
    {
      "cell_type": "code",
      "source": [
        "for w in range(10):\n",
        "  if w % 2 == 0:\n",
        "    print(w)\n",
        "  else:\n",
        "    break\n",
        "# Result would be 0"
      ],
      "metadata": {
        "id": "u78rikyTiz9V",
        "colab": {
          "base_uri": "https://localhost:8080/"
        },
        "outputId": "f0515514-ee35-423e-c409-602b910e6fe6"
      },
      "execution_count": null,
      "outputs": [
        {
          "output_type": "stream",
          "name": "stdout",
          "text": [
            "0\n"
          ]
        }
      ]
    },
    {
      "cell_type": "code",
      "source": [
        "for o in range(10):\n",
        "  if o % 2 == 0:\n",
        "    break\n",
        "  else:\n",
        "    print(o)"
      ],
      "metadata": {
        "id": "fx6tcRxtiz2s"
      },
      "execution_count": null,
      "outputs": []
    },
    {
      "cell_type": "code",
      "source": [],
      "metadata": {
        "id": "M41hDmJxizrn"
      },
      "execution_count": null,
      "outputs": []
    }
  ]
}