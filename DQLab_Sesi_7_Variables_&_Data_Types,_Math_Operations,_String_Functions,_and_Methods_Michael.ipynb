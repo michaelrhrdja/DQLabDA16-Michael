{
  "nbformat": 4,
  "nbformat_minor": 0,
  "metadata": {
    "colab": {
      "provenance": []
    },
    "kernelspec": {
      "name": "python3",
      "display_name": "Python 3"
    },
    "language_info": {
      "name": "python"
    }
  },
  "cells": [
    {
      "cell_type": "code",
      "execution_count": null,
      "metadata": {
        "colab": {
          "base_uri": "https://localhost:8080/"
        },
        "id": "CjpYXQtdYZkK",
        "outputId": "b0ef5155-dff4-467a-bbff-a14365264e59"
      },
      "outputs": [
        {
          "output_type": "stream",
          "name": "stdout",
          "text": [
            "Kamu makannya apah?\n",
            "Saya makan nasi goreng\n"
          ]
        }
      ],
      "source": [
        "print(\"Kamu makannya apah?\")\n",
        "print(\"Saya makan nasi goreng\")"
      ]
    },
    {
      "cell_type": "code",
      "source": [
        "print(\"\"\"Siapa kamu?\n",
        "Aku seorang kapiten\n",
        "Mempunyai pedang panjaaaang\"\"\")"
      ],
      "metadata": {
        "colab": {
          "base_uri": "https://localhost:8080/"
        },
        "id": "8YM6owOHcNKZ",
        "outputId": "4536e691-a119-4580-e1bf-8876b2687156"
      },
      "execution_count": null,
      "outputs": [
        {
          "output_type": "stream",
          "name": "stdout",
          "text": [
            "Siapa kamu?\n",
            "Aku seorang kapiten\n",
            "Mempunyai pedang panjaaaang\n"
          ]
        }
      ]
    },
    {
      "cell_type": "code",
      "source": [
        "print('''Siapa kamu?\n",
        "Aku seorang kapiten\n",
        "Mempunyai pedang panjaaaang''')"
      ],
      "metadata": {
        "id": "CYdRLOgJcnII",
        "colab": {
          "base_uri": "https://localhost:8080/"
        },
        "outputId": "344c752c-fd7b-4e23-c7b8-60f74a802d34"
      },
      "execution_count": null,
      "outputs": [
        {
          "output_type": "stream",
          "name": "stdout",
          "text": [
            "Siapa kamu?\n",
            "Aku seorang kapiten\n",
            "Mempunyai pedang panjaaaang\n"
          ]
        }
      ]
    },
    {
      "cell_type": "markdown",
      "source": [
        "# Numeric"
      ],
      "metadata": {
        "id": "5_p82Z9ivUYo"
      }
    },
    {
      "cell_type": "code",
      "source": [
        "x = 890\n",
        "print(x)\n",
        "y = 9.0\n",
        "print(y)"
      ],
      "metadata": {
        "colab": {
          "base_uri": "https://localhost:8080/"
        },
        "id": "pszRUaaevRZ_",
        "outputId": "7e0a8818-7e93-4247-82b1-3bd13b3c26a6"
      },
      "execution_count": null,
      "outputs": [
        {
          "output_type": "stream",
          "name": "stdout",
          "text": [
            "890\n",
            "9.0\n"
          ]
        }
      ]
    },
    {
      "cell_type": "code",
      "source": [
        "type(x)\n",
        "print(type(x))\n",
        "type(y)\n",
        "print(type(y))"
      ],
      "metadata": {
        "colab": {
          "base_uri": "https://localhost:8080/"
        },
        "id": "OBqvwmPOvSEc",
        "outputId": "76ffca18-f9c5-4491-88ff-8da6ea9e1bf8"
      },
      "execution_count": null,
      "outputs": [
        {
          "output_type": "stream",
          "name": "stdout",
          "text": [
            "<class 'int'>\n",
            "<class 'float'>\n"
          ]
        }
      ]
    },
    {
      "cell_type": "code",
      "source": [
        "print(x+y) #add\n",
        "print(x-y) #subtract\n",
        "print(x*y) #multiple\n",
        "print(x/y) # division1; float\n",
        "print(x//y) # division2; float\n",
        "print(x%y) #modulo\n",
        "print(x**y) #square\n",
        "print(x**(1/2)) #square root"
      ],
      "metadata": {
        "colab": {
          "base_uri": "https://localhost:8080/"
        },
        "id": "JFD1KzLCvSNg",
        "outputId": "f026a0ff-01f4-4509-a1ca-e2107a2a330d"
      },
      "execution_count": null,
      "outputs": [
        {
          "output_type": "stream",
          "name": "stdout",
          "text": [
            "899.0\n",
            "881.0\n",
            "8010.0\n",
            "98.88888888888889\n",
            "98.0\n",
            "8.0\n",
            "3.5035640370748524e+26\n",
            "29.832867780352597\n"
          ]
        }
      ]
    },
    {
      "cell_type": "code",
      "source": [
        "import math\n",
        "print(math.floor(y))\n",
        "print(math.ceil(y))\n",
        "print(math.sqrt(x))\n",
        "print(math.ceil(x/y))\n",
        "print(math.floor(x/y))\n",
        "print(math.pi)"
      ],
      "metadata": {
        "colab": {
          "base_uri": "https://localhost:8080/"
        },
        "id": "4nEMUK1hvSU2",
        "outputId": "41dd0997-4359-463d-fb4b-633983ca9869"
      },
      "execution_count": null,
      "outputs": [
        {
          "output_type": "stream",
          "name": "stdout",
          "text": [
            "9\n",
            "9\n",
            "29.832867780352597\n",
            "99\n",
            "98\n",
            "3.141592653589793\n"
          ]
        }
      ]
    },
    {
      "cell_type": "markdown",
      "source": [
        "# Boolean"
      ],
      "metadata": {
        "id": "tcV_DHv6ygxw"
      }
    },
    {
      "cell_type": "code",
      "source": [
        "5 > 3"
      ],
      "metadata": {
        "id": "hOqkVfusyhEl",
        "colab": {
          "base_uri": "https://localhost:8080/"
        },
        "outputId": "ea16ac12-e892-4492-acc8-4d56d0acb774"
      },
      "execution_count": null,
      "outputs": [
        {
          "output_type": "execute_result",
          "data": {
            "text/plain": [
              "True"
            ]
          },
          "metadata": {},
          "execution_count": 8
        }
      ]
    },
    {
      "cell_type": "code",
      "source": [
        "not 5 > 3"
      ],
      "metadata": {
        "colab": {
          "base_uri": "https://localhost:8080/"
        },
        "id": "x9TpTtTWQHS_",
        "outputId": "8054e4e9-5a83-42b8-9ca4-6c442dc780eb"
      },
      "execution_count": null,
      "outputs": [
        {
          "output_type": "execute_result",
          "data": {
            "text/plain": [
              "False"
            ]
          },
          "metadata": {},
          "execution_count": 9
        }
      ]
    },
    {
      "cell_type": "code",
      "source": [
        "True + True"
      ],
      "metadata": {
        "colab": {
          "base_uri": "https://localhost:8080/"
        },
        "id": "_NXj2FS-QHcR",
        "outputId": "2c140a8a-39b7-4e9a-b4b0-bb7a0096cdf5"
      },
      "execution_count": null,
      "outputs": [
        {
          "output_type": "execute_result",
          "data": {
            "text/plain": [
              "2"
            ]
          },
          "metadata": {},
          "execution_count": 10
        }
      ]
    },
    {
      "cell_type": "code",
      "source": [
        "False + True"
      ],
      "metadata": {
        "colab": {
          "base_uri": "https://localhost:8080/"
        },
        "id": "BobWtKiAQTKU",
        "outputId": "35d58b81-f46a-40a8-d5b4-1ad5ea9cace9"
      },
      "execution_count": null,
      "outputs": [
        {
          "output_type": "execute_result",
          "data": {
            "text/plain": [
              "1"
            ]
          },
          "metadata": {},
          "execution_count": 11
        }
      ]
    },
    {
      "cell_type": "code",
      "source": [
        "False + False"
      ],
      "metadata": {
        "colab": {
          "base_uri": "https://localhost:8080/"
        },
        "id": "XbCfdxSsQHi6",
        "outputId": "037dc542-17d5-4031-cf62-9bda3f247eee"
      },
      "execution_count": null,
      "outputs": [
        {
          "output_type": "execute_result",
          "data": {
            "text/plain": [
              "0"
            ]
          },
          "metadata": {},
          "execution_count": 12
        }
      ]
    },
    {
      "cell_type": "code",
      "source": [
        "True == 1"
      ],
      "metadata": {
        "colab": {
          "base_uri": "https://localhost:8080/"
        },
        "id": "nvpHJ2zMQHq6",
        "outputId": "bb6b9da2-0bf7-45a9-f496-078c2da5e332"
      },
      "execution_count": null,
      "outputs": [
        {
          "output_type": "execute_result",
          "data": {
            "text/plain": [
              "True"
            ]
          },
          "metadata": {},
          "execution_count": 13
        }
      ]
    },
    {
      "cell_type": "code",
      "source": [
        "if 5 > 3:\n",
        "    print(\"Benar\")\n",
        "else:\n",
        "    print(\"Salah\")"
      ],
      "metadata": {
        "colab": {
          "base_uri": "https://localhost:8080/"
        },
        "id": "6wt8AasqQZnA",
        "outputId": "20a49942-25ea-4c28-9914-028f8355da17"
      },
      "execution_count": null,
      "outputs": [
        {
          "output_type": "stream",
          "name": "stdout",
          "text": [
            "Benar\n"
          ]
        }
      ]
    },
    {
      "cell_type": "code",
      "source": [
        "True and False"
      ],
      "metadata": {
        "colab": {
          "base_uri": "https://localhost:8080/"
        },
        "id": "mgVeyi-VQbjT",
        "outputId": "eb10388b-061a-46e7-ad74-83c01bbd6e1e"
      },
      "execution_count": null,
      "outputs": [
        {
          "output_type": "execute_result",
          "data": {
            "text/plain": [
              "False"
            ]
          },
          "metadata": {},
          "execution_count": 15
        }
      ]
    },
    {
      "cell_type": "code",
      "source": [
        "True or False"
      ],
      "metadata": {
        "colab": {
          "base_uri": "https://localhost:8080/"
        },
        "id": "y3qEHN3lQbq0",
        "outputId": "0b09fa9c-9df1-4604-fd8d-be9aa9ba46f2"
      },
      "execution_count": null,
      "outputs": [
        {
          "output_type": "execute_result",
          "data": {
            "text/plain": [
              "True"
            ]
          },
          "metadata": {},
          "execution_count": 16
        }
      ]
    },
    {
      "cell_type": "code",
      "source": [
        "int(True)"
      ],
      "metadata": {
        "colab": {
          "base_uri": "https://localhost:8080/"
        },
        "id": "7zhNj6R2QbyI",
        "outputId": "d0baebfa-f95c-4664-c3a7-69ae779591b8"
      },
      "execution_count": null,
      "outputs": [
        {
          "output_type": "execute_result",
          "data": {
            "text/plain": [
              "1"
            ]
          },
          "metadata": {},
          "execution_count": 17
        }
      ]
    },
    {
      "cell_type": "markdown",
      "source": [
        "# Conditional Statemene"
      ],
      "metadata": {
        "id": "dIxO_y9skHQw"
      }
    },
    {
      "cell_type": "code",
      "source": [
        "# < Kurang dari\n",
        "# > Lebih dari\n",
        "# <= kurang dari sama dengan\n",
        "# >= lebih dari sama dengan\n",
        "# == sama dengan\n",
        "# != tidak sama dengan\n",
        "# Outputnya True or False"
      ],
      "metadata": {
        "id": "5Cu1DlDjj2aV"
      },
      "execution_count": null,
      "outputs": []
    },
    {
      "cell_type": "code",
      "source": [
        "z = int(input(\"Masukkan angka: \"))\n",
        "if z > 2:\n",
        "    print(\"NIlai z lebih dari 2\")\n",
        "elif z == 2:\n",
        "    print(\"Nilai z sama dengan 2\")\n",
        "else:\n",
        "    print(\"NIlai z kurang dari 2\")"
      ],
      "metadata": {
        "colab": {
          "base_uri": "https://localhost:8080/"
        },
        "id": "dO-ZYdhUj2f9",
        "outputId": "7582a68d-2433-4008-ceb0-f50c8fb8c5c9"
      },
      "execution_count": null,
      "outputs": [
        {
          "output_type": "stream",
          "name": "stdout",
          "text": [
            "Masukkan angka: 2\n",
            "Nilai z sama dengan 2\n"
          ]
        }
      ]
    },
    {
      "cell_type": "code",
      "source": [
        "x = int(input(\"Masukkan angka: \"))\n",
        "if x % 2 == 0:\n",
        "    print(\"Nilai x adalah genap\")\n",
        "else:\n",
        "    print(\"Nilai x adalah ganjil\")"
      ],
      "metadata": {
        "colab": {
          "base_uri": "https://localhost:8080/"
        },
        "id": "8TSu7U4qj2mE",
        "outputId": "e7aa8047-dd54-4ba2-a08d-9491f71c281d"
      },
      "execution_count": null,
      "outputs": [
        {
          "output_type": "stream",
          "name": "stdout",
          "text": [
            "Masukkan angka: 10\n",
            "Nilai x adalah genap\n"
          ]
        }
      ]
    },
    {
      "cell_type": "code",
      "source": [
        "c = int(input(\"Masukkan angka pertama: \"))\n",
        "d = int(input(\"Masukkan angka kedua: \"))\n",
        "if c > d:\n",
        "    print(\"Nilai c lebih besar dari d\")\n",
        "elif c == d:\n",
        "    print(\"Nilai c sama dengan d\")\n",
        "else:\n",
        "    print(\"Nilai c lebih kecil dari d\")"
      ],
      "metadata": {
        "colab": {
          "base_uri": "https://localhost:8080/"
        },
        "id": "2hnrjlffj2sV",
        "outputId": "e24b7c92-a932-4c0c-aae6-432566bbe62e"
      },
      "execution_count": null,
      "outputs": [
        {
          "output_type": "stream",
          "name": "stdout",
          "text": [
            "Masukkan angka pertama: 10\n",
            "Masukkan angka kedua: 5\n",
            "Nilai c lebih besar dari d\n"
          ]
        }
      ]
    },
    {
      "cell_type": "code",
      "source": [
        "m = int(input(\"Masukkan angka pertama: \"))\n",
        "n = int(input(\"Masukkan angka kedua: \"))\n",
        "if (m % 2 == 0) and (n % 3 == 0):\n",
        "    print(\"Nilai m dan n adalah bilangan yang bisa habis dibagi 2 dan 3\")\n",
        "else:\n",
        "  print(\"Salah satu dari m atau n adalah bilangan yang tak habis dibagi 2 dan 3\")"
      ],
      "metadata": {
        "colab": {
          "base_uri": "https://localhost:8080/"
        },
        "id": "fGKUxXv6t466",
        "outputId": "b8ad4243-6fe4-4e31-f670-754441a5e782"
      },
      "execution_count": null,
      "outputs": [
        {
          "output_type": "stream",
          "name": "stdout",
          "text": [
            "Masukkan angka pertama: 6\n",
            "Masukkan angka kedua: 9\n",
            "Nilai m dan n adalah bilangan yang bisa habis dibagi 2 dan 3\n"
          ]
        }
      ]
    },
    {
      "cell_type": "code",
      "source": [
        "#bmi\n",
        "#weight in kg\n",
        "#height in cm\n",
        "# bmi = weight / (height ** 2)\n",
        "\n",
        "weight = float(input(\"Masukkan berat badan (kg): \"))\n",
        "height = float(input(\"Masukkan tinggi badan (m): \"))\n",
        "bmi = round((weight / (height ** 2)),3)\n",
        "print(\"BMI kamu adalah: \", bmi)\n",
        "if bmi < 18.5:\n",
        "    print(\"Kekurangan berat badan\")\n",
        "elif (bmi >= 18.5) and (bmi <= 24.9):\n",
        "    print(\"Berat badan ideal\")\n",
        "elif (bmi >= 24.9) and (bmi <= 29.9):\n",
        "    print(\"Kelebihan berat badan\")\n",
        "else:\n",
        "    print(\"Eh udah obese itu. Cepet ambil kelas olahraganya\")"
      ],
      "metadata": {
        "colab": {
          "base_uri": "https://localhost:8080/"
        },
        "id": "-CDG97D5unBK",
        "outputId": "aaa267fa-64c6-48ac-caf7-0061c388ad8d"
      },
      "execution_count": null,
      "outputs": [
        {
          "output_type": "stream",
          "name": "stdout",
          "text": [
            "Masukkan berat badan (kg): 80\n",
            "Masukkan tinggi badan (m): 1.80\n",
            "BMI kamu adalah:  24.691\n",
            "Berat badan ideal\n"
          ]
        }
      ]
    },
    {
      "cell_type": "code",
      "source": [
        "# buatlah segitiga berikut\n",
        "#*\n",
        "#**\n",
        "#***\n",
        "#****\n",
        "#*****\n",
        "\n",
        "for i in range(1,6):\n",
        "    print(\"*\" * i)\n"
      ],
      "metadata": {
        "colab": {
          "base_uri": "https://localhost:8080/"
        },
        "id": "MOHsya9Gu2cD",
        "outputId": "4d4df165-1064-4d01-b22a-320eccc1acb0"
      },
      "execution_count": null,
      "outputs": [
        {
          "output_type": "stream",
          "name": "stdout",
          "text": [
            "*\n",
            "**\n",
            "***\n",
            "****\n",
            "*****\n"
          ]
        }
      ]
    },
    {
      "cell_type": "code",
      "source": [
        "list(range(1,6))"
      ],
      "metadata": {
        "colab": {
          "base_uri": "https://localhost:8080/"
        },
        "id": "LdnafNZiu2h2",
        "outputId": "7bda5736-7924-44c9-dae4-3ccc53ca75e7"
      },
      "execution_count": null,
      "outputs": [
        {
          "output_type": "execute_result",
          "data": {
            "text/plain": [
              "[1, 2, 3, 4, 5]"
            ]
          },
          "metadata": {},
          "execution_count": 25
        }
      ]
    },
    {
      "cell_type": "code",
      "source": [
        "list(range(1,10,2))"
      ],
      "metadata": {
        "colab": {
          "base_uri": "https://localhost:8080/"
        },
        "id": "9_HPtvGeu2mo",
        "outputId": "283b44b9-5224-4b99-9a97-bac0831c9c10"
      },
      "execution_count": null,
      "outputs": [
        {
          "output_type": "execute_result",
          "data": {
            "text/plain": [
              "[1, 3, 5, 7, 9]"
            ]
          },
          "metadata": {},
          "execution_count": 26
        }
      ]
    },
    {
      "cell_type": "code",
      "source": [
        "list(range(10,0,-1))"
      ],
      "metadata": {
        "colab": {
          "base_uri": "https://localhost:8080/"
        },
        "id": "VemUHLaR8ptJ",
        "outputId": "18dd0071-1a45-4302-9b16-a7f289759476"
      },
      "execution_count": null,
      "outputs": [
        {
          "output_type": "execute_result",
          "data": {
            "text/plain": [
              "[10, 9, 8, 7, 6, 5, 4, 3, 2, 1]"
            ]
          },
          "metadata": {},
          "execution_count": 27
        }
      ]
    },
    {
      "cell_type": "markdown",
      "source": [
        "# String"
      ],
      "metadata": {
        "id": "_kHwos-s8uLa"
      }
    },
    {
      "cell_type": "code",
      "source": [
        "print(\"Hello World\")\n",
        "print(\"Ini hari Jum'at\")\n",
        "print(\"\"\"Aku seorang kapiten\n",
        "Mempunyai pedang panjaaaang\"\"\")"
      ],
      "metadata": {
        "colab": {
          "base_uri": "https://localhost:8080/"
        },
        "id": "HW5ro2Cg8p3b",
        "outputId": "704fb5ce-0cae-4aa7-f603-beaf9cb485a5"
      },
      "execution_count": null,
      "outputs": [
        {
          "output_type": "stream",
          "name": "stdout",
          "text": [
            "Hello World\n",
            "Ini hari Jum'at\n",
            "Aku seorang kapiten\n",
            "Mempunyai pedang panjaaaang\n"
          ]
        }
      ]
    },
    {
      "cell_type": "code",
      "source": [
        "\"I am \" + \"Deadpool\""
      ],
      "metadata": {
        "colab": {
          "base_uri": "https://localhost:8080/",
          "height": 35
        },
        "id": "8FYYocnz9ISy",
        "outputId": "f53585aa-dddc-4c76-fa64-36fe6d1c1ff8"
      },
      "execution_count": null,
      "outputs": [
        {
          "output_type": "execute_result",
          "data": {
            "text/plain": [
              "'I am Deadpool'"
            ],
            "application/vnd.google.colaboratory.intrinsic+json": {
              "type": "string"
            }
          },
          "metadata": {},
          "execution_count": 29
        }
      ]
    },
    {
      "cell_type": "code",
      "source": [
        "\"*\" * 5"
      ],
      "metadata": {
        "colab": {
          "base_uri": "https://localhost:8080/",
          "height": 35
        },
        "id": "osLLAIuW9ILO",
        "outputId": "4334ef5d-5137-409f-95fe-dc7f3d161c54"
      },
      "execution_count": null,
      "outputs": [
        {
          "output_type": "execute_result",
          "data": {
            "text/plain": [
              "'*****'"
            ],
            "application/vnd.google.colaboratory.intrinsic+json": {
              "type": "string"
            }
          },
          "metadata": {},
          "execution_count": 30
        }
      ]
    },
    {
      "cell_type": "code",
      "source": [
        "x = \"I am Deadpool\"\n",
        "print(x)"
      ],
      "metadata": {
        "colab": {
          "base_uri": "https://localhost:8080/"
        },
        "id": "_0NnZHpL9IBP",
        "outputId": "3bbe8f57-764b-4886-adf2-8555afa7d122"
      },
      "execution_count": null,
      "outputs": [
        {
          "output_type": "stream",
          "name": "stdout",
          "text": [
            "I am Deadpool\n"
          ]
        }
      ]
    },
    {
      "cell_type": "code",
      "source": [
        "type(x)"
      ],
      "metadata": {
        "colab": {
          "base_uri": "https://localhost:8080/"
        },
        "id": "EWtsin_a9HyU",
        "outputId": "00ff3d70-93bb-4968-a2b0-6bd850229153"
      },
      "execution_count": null,
      "outputs": [
        {
          "output_type": "execute_result",
          "data": {
            "text/plain": [
              "str"
            ]
          },
          "metadata": {},
          "execution_count": 32
        }
      ]
    },
    {
      "cell_type": "code",
      "source": [
        "x.upper()"
      ],
      "metadata": {
        "colab": {
          "base_uri": "https://localhost:8080/",
          "height": 35
        },
        "id": "ATWSH-rx-Rei",
        "outputId": "34212d15-6e56-446e-be4f-0e2f183b267c"
      },
      "execution_count": null,
      "outputs": [
        {
          "output_type": "execute_result",
          "data": {
            "text/plain": [
              "'I AM DEADPOOL'"
            ],
            "application/vnd.google.colaboratory.intrinsic+json": {
              "type": "string"
            }
          },
          "metadata": {},
          "execution_count": 33
        }
      ]
    },
    {
      "cell_type": "code",
      "source": [
        "x.lower()"
      ],
      "metadata": {
        "colab": {
          "base_uri": "https://localhost:8080/",
          "height": 35
        },
        "id": "TvcjpzSI-RoQ",
        "outputId": "39beb44f-734a-477e-ead5-d7f196c66294"
      },
      "execution_count": null,
      "outputs": [
        {
          "output_type": "execute_result",
          "data": {
            "text/plain": [
              "'i am deadpool'"
            ],
            "application/vnd.google.colaboratory.intrinsic+json": {
              "type": "string"
            }
          },
          "metadata": {},
          "execution_count": 34
        }
      ]
    },
    {
      "cell_type": "code",
      "source": [
        "x.capitalize()"
      ],
      "metadata": {
        "colab": {
          "base_uri": "https://localhost:8080/",
          "height": 35
        },
        "id": "SpV5RVfe-RyF",
        "outputId": "fc77571c-7ff2-451b-d752-db73c07f6db9"
      },
      "execution_count": null,
      "outputs": [
        {
          "output_type": "execute_result",
          "data": {
            "text/plain": [
              "'I am deadpool'"
            ],
            "application/vnd.google.colaboratory.intrinsic+json": {
              "type": "string"
            }
          },
          "metadata": {},
          "execution_count": 35
        }
      ]
    },
    {
      "cell_type": "code",
      "source": [
        "x.swapcase()"
      ],
      "metadata": {
        "colab": {
          "base_uri": "https://localhost:8080/",
          "height": 35
        },
        "id": "-zBYWyXY-ZAG",
        "outputId": "8822b4cf-8b8b-4f95-8966-4e00528a5d87"
      },
      "execution_count": null,
      "outputs": [
        {
          "output_type": "execute_result",
          "data": {
            "text/plain": [
              "'i AM dEADPOOL'"
            ],
            "application/vnd.google.colaboratory.intrinsic+json": {
              "type": "string"
            }
          },
          "metadata": {},
          "execution_count": 36
        }
      ]
    },
    {
      "cell_type": "code",
      "source": [
        "x.count(\"o\")"
      ],
      "metadata": {
        "colab": {
          "base_uri": "https://localhost:8080/"
        },
        "id": "WmpiSoKV-Y4N",
        "outputId": "43f2863d-ba08-4ab2-dcc9-58226dfd4c5a"
      },
      "execution_count": null,
      "outputs": [
        {
          "output_type": "execute_result",
          "data": {
            "text/plain": [
              "2"
            ]
          },
          "metadata": {},
          "execution_count": 37
        }
      ]
    },
    {
      "cell_type": "code",
      "source": [
        "x.replace(\"Deadpool\", \"Ironman\")"
      ],
      "metadata": {
        "colab": {
          "base_uri": "https://localhost:8080/",
          "height": 35
        },
        "id": "aYp_EWVy-Ytl",
        "outputId": "f39f62ea-b3a3-43c8-8ffe-55b205c85365"
      },
      "execution_count": null,
      "outputs": [
        {
          "output_type": "execute_result",
          "data": {
            "text/plain": [
              "'I am Ironman'"
            ],
            "application/vnd.google.colaboratory.intrinsic+json": {
              "type": "string"
            }
          },
          "metadata": {},
          "execution_count": 38
        }
      ]
    },
    {
      "cell_type": "code",
      "source": [
        "' Aku seorang saudagar kaya dari tanah rendah  '.strip()"
      ],
      "metadata": {
        "colab": {
          "base_uri": "https://localhost:8080/",
          "height": 35
        },
        "id": "gMXWoI8K-Yie",
        "outputId": "de66b9a3-ac4e-4242-9060-4013454bcd6a"
      },
      "execution_count": null,
      "outputs": [
        {
          "output_type": "execute_result",
          "data": {
            "text/plain": [
              "'Aku seorang saudagar kaya dari tanah rendah'"
            ],
            "application/vnd.google.colaboratory.intrinsic+json": {
              "type": "string"
            }
          },
          "metadata": {},
          "execution_count": 39
        }
      ]
    },
    {
      "cell_type": "code",
      "source": [
        "x[0:8]"
      ],
      "metadata": {
        "colab": {
          "base_uri": "https://localhost:8080/",
          "height": 35
        },
        "id": "TpmeaD5kAKj4",
        "outputId": "a4ef446d-8d33-4103-e57b-72627a7c891f"
      },
      "execution_count": null,
      "outputs": [
        {
          "output_type": "execute_result",
          "data": {
            "text/plain": [
              "'I am Dea'"
            ],
            "application/vnd.google.colaboratory.intrinsic+json": {
              "type": "string"
            }
          },
          "metadata": {},
          "execution_count": 40
        }
      ]
    }
  ]
}