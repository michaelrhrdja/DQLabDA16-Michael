{
  "nbformat": 4,
  "nbformat_minor": 0,
  "metadata": {
    "colab": {
      "provenance": []
    },
    "kernelspec": {
      "name": "python3",
      "display_name": "Python 3"
    },
    "language_info": {
      "name": "python"
    }
  },
  "cells": [
    {
      "cell_type": "code",
      "execution_count": null,
      "metadata": {
        "colab": {
          "base_uri": "https://localhost:8080/"
        },
        "id": "r9vFY5qFktAV",
        "outputId": "0e07a7ef-929a-417b-acb6-6df49fc5c22a"
      },
      "outputs": [
        {
          "output_type": "stream",
          "name": "stdout",
          "text": [
            "['Amir', 'Budi', 'Cinta', 'Dimas', 'Edi']\n"
          ]
        }
      ],
      "source": [
        "nama = ['Amir', 'Budi', 'Cinta', 'Dimas', 'Edi']\n",
        "print(nama)"
      ]
    },
    {
      "cell_type": "code",
      "source": [
        "len(nama)"
      ],
      "metadata": {
        "colab": {
          "base_uri": "https://localhost:8080/"
        },
        "id": "k61Uk16xlAoK",
        "outputId": "99628b99-5e6a-4e9a-abfc-224e1b0e62e2"
      },
      "execution_count": null,
      "outputs": [
        {
          "output_type": "execute_result",
          "data": {
            "text/plain": [
              "5"
            ]
          },
          "metadata": {},
          "execution_count": 2
        }
      ]
    },
    {
      "cell_type": "code",
      "source": [
        "acak = ['Amir', 21, 34.5, 'Jeruk']\n",
        "print(acak)"
      ],
      "metadata": {
        "colab": {
          "base_uri": "https://localhost:8080/"
        },
        "id": "Oi7EaWfzlC6p",
        "outputId": "05ff369c-9328-4549-ab58-fc09a1b865b1"
      },
      "execution_count": null,
      "outputs": [
        {
          "output_type": "stream",
          "name": "stdout",
          "text": [
            "['Amir', 21, 34.5, 'Jeruk']\n"
          ]
        }
      ]
    },
    {
      "cell_type": "code",
      "source": [
        "print(type(acak))\n",
        "print(type(nama))"
      ],
      "metadata": {
        "colab": {
          "base_uri": "https://localhost:8080/"
        },
        "id": "FDn8FHQ7lMTW",
        "outputId": "367f569b-0e15-4e23-93e7-8cbf9feb568e"
      },
      "execution_count": null,
      "outputs": [
        {
          "output_type": "stream",
          "name": "stdout",
          "text": [
            "<class 'list'>\n",
            "<class 'list'>\n"
          ]
        }
      ]
    },
    {
      "cell_type": "code",
      "source": [
        "print(nama[2])\n",
        "print(acak[3])"
      ],
      "metadata": {
        "colab": {
          "base_uri": "https://localhost:8080/"
        },
        "id": "S4iE8rf9lSuJ",
        "outputId": "923a8fbc-1863-4d62-e5a7-53e9eb1e1ec8"
      },
      "execution_count": null,
      "outputs": [
        {
          "output_type": "stream",
          "name": "stdout",
          "text": [
            "Cinta\n",
            "Jeruk\n"
          ]
        }
      ]
    },
    {
      "cell_type": "code",
      "source": [
        "nama[0] = 'Andi'\n",
        "nama"
      ],
      "metadata": {
        "colab": {
          "base_uri": "https://localhost:8080/"
        },
        "id": "LaiPlnuDlvuC",
        "outputId": "8b6858b1-9485-4e78-8c95-364e5e8020c9"
      },
      "execution_count": null,
      "outputs": [
        {
          "output_type": "execute_result",
          "data": {
            "text/plain": [
              "['Andi', 'Budi', 'Cinta', 'Dimas', 'Edi']"
            ]
          },
          "metadata": {},
          "execution_count": 6
        }
      ]
    },
    {
      "cell_type": "code",
      "source": [
        "nama[0:2] = ['Asep', 'Bobby']"
      ],
      "metadata": {
        "id": "BMk7glAFmM1g"
      },
      "execution_count": null,
      "outputs": []
    },
    {
      "cell_type": "code",
      "source": [
        "nama"
      ],
      "metadata": {
        "colab": {
          "base_uri": "https://localhost:8080/"
        },
        "id": "YCazbc1KmT09",
        "outputId": "7e6c3226-f5cb-409c-ecf3-66dfced7dc5c"
      },
      "execution_count": null,
      "outputs": [
        {
          "output_type": "execute_result",
          "data": {
            "text/plain": [
              "['Asep', 'Bobby', 'Cinta', 'Dimas', 'Edi']"
            ]
          },
          "metadata": {},
          "execution_count": 8
        }
      ]
    },
    {
      "cell_type": "code",
      "source": [
        "#slicing on the list\n",
        "print(nama[0:3])"
      ],
      "metadata": {
        "colab": {
          "base_uri": "https://localhost:8080/"
        },
        "id": "EOsNFSrgmUkp",
        "outputId": "52dedf4d-739a-4c2c-d822-b0ea44ece688"
      },
      "execution_count": null,
      "outputs": [
        {
          "output_type": "stream",
          "name": "stdout",
          "text": [
            "['Asep', 'Bobby', 'Cinta']\n"
          ]
        }
      ]
    },
    {
      "cell_type": "code",
      "source": [
        "for i in nama:\n",
        "  print(i)"
      ],
      "metadata": {
        "colab": {
          "base_uri": "https://localhost:8080/"
        },
        "id": "owqOsXlSm6FB",
        "outputId": "621e6c02-31b8-4437-f122-691edf9dfe0d"
      },
      "execution_count": null,
      "outputs": [
        {
          "output_type": "stream",
          "name": "stdout",
          "text": [
            "Asep\n",
            "Bobby\n",
            "Cinta\n",
            "Dimas\n",
            "Edi\n"
          ]
        }
      ]
    },
    {
      "cell_type": "code",
      "source": [
        "nama.append('Fajar')\n",
        "nama.append('Gita')\n",
        "nama"
      ],
      "metadata": {
        "id": "jxNkk_1rnQUc",
        "colab": {
          "base_uri": "https://localhost:8080/"
        },
        "outputId": "803e40cd-5393-469d-c535-cff512f94342"
      },
      "execution_count": null,
      "outputs": [
        {
          "output_type": "execute_result",
          "data": {
            "text/plain": [
              "['Asep', 'Bobby', 'Cinta', 'Dimas', 'Edi', 'Fajar', 'Gita']"
            ]
          },
          "metadata": {},
          "execution_count": 11
        }
      ]
    },
    {
      "cell_type": "code",
      "source": [
        "for i in range(len(nama)):\n",
        "  print(f\"{i+1} {nama[i]}\")"
      ],
      "metadata": {
        "colab": {
          "base_uri": "https://localhost:8080/"
        },
        "id": "qloKw-Ssp-VW",
        "outputId": "53024ffb-2ba9-4947-b7fd-cc85386ef7e7"
      },
      "execution_count": null,
      "outputs": [
        {
          "output_type": "stream",
          "name": "stdout",
          "text": [
            "1 Asep\n",
            "2 Bobby\n",
            "3 Cinta\n",
            "4 Dimas\n",
            "5 Edi\n",
            "6 Fajar\n",
            "7 Gita\n"
          ]
        }
      ]
    },
    {
      "cell_type": "code",
      "source": [
        "print(list(enumerate(nama)))"
      ],
      "metadata": {
        "colab": {
          "base_uri": "https://localhost:8080/"
        },
        "id": "hk6ExvItrkrV",
        "outputId": "9794a615-7abf-4beb-9ce1-177d6bb02a11"
      },
      "execution_count": null,
      "outputs": [
        {
          "output_type": "stream",
          "name": "stdout",
          "text": [
            "[(0, 'Asep'), (1, 'Bobby'), (2, 'Cinta'), (3, 'Dimas'), (4, 'Edi'), (5, 'Fajar'), (6, 'Gita')]\n"
          ]
        }
      ]
    },
    {
      "cell_type": "code",
      "source": [
        "for i,namas in enumerate(nama):\n",
        "  print(f\"{i+1} {namas}\")"
      ],
      "metadata": {
        "id": "7dpApg3gu6OZ",
        "colab": {
          "base_uri": "https://localhost:8080/"
        },
        "outputId": "3b7fdd67-a190-4dcc-a288-1864d21ae182"
      },
      "execution_count": null,
      "outputs": [
        {
          "output_type": "stream",
          "name": "stdout",
          "text": [
            "1 Asep\n",
            "2 Bobby\n",
            "3 Cinta\n",
            "4 Dimas\n",
            "5 Edi\n",
            "6 Fajar\n",
            "7 Gita\n"
          ]
        }
      ]
    },
    {
      "cell_type": "code",
      "source": [
        "q = list(enumerate(nama))\n",
        "q"
      ],
      "metadata": {
        "colab": {
          "base_uri": "https://localhost:8080/"
        },
        "id": "kDKZ3dmSAbD6",
        "outputId": "5a505888-db60-42a7-bc68-68f7fd52ad1b"
      },
      "execution_count": null,
      "outputs": [
        {
          "output_type": "execute_result",
          "data": {
            "text/plain": [
              "[(0, 'Asep'),\n",
              " (1, 'Bobby'),\n",
              " (2, 'Cinta'),\n",
              " (3, 'Dimas'),\n",
              " (4, 'Edi'),\n",
              " (5, 'Fajar'),\n",
              " (6, 'Gita')]"
            ]
          },
          "metadata": {},
          "execution_count": 15
        }
      ]
    },
    {
      "cell_type": "code",
      "source": [
        "q[2]"
      ],
      "metadata": {
        "colab": {
          "base_uri": "https://localhost:8080/"
        },
        "id": "xRgrvSOCAmud",
        "outputId": "1ec53a07-746d-44be-b1e1-95e20c0eabe9"
      },
      "execution_count": null,
      "outputs": [
        {
          "output_type": "execute_result",
          "data": {
            "text/plain": [
              "(2, 'Cinta')"
            ]
          },
          "metadata": {},
          "execution_count": 16
        }
      ]
    },
    {
      "cell_type": "code",
      "source": [
        "nama.pop()"
      ],
      "metadata": {
        "colab": {
          "base_uri": "https://localhost:8080/",
          "height": 35
        },
        "id": "IoWvfsPBAmhT",
        "outputId": "356f2d7b-2b3e-40c1-b16b-ae5ca32a3220"
      },
      "execution_count": null,
      "outputs": [
        {
          "output_type": "execute_result",
          "data": {
            "text/plain": [
              "'Gita'"
            ],
            "application/vnd.google.colaboratory.intrinsic+json": {
              "type": "string"
            }
          },
          "metadata": {},
          "execution_count": 17
        }
      ]
    },
    {
      "cell_type": "code",
      "source": [
        "nama"
      ],
      "metadata": {
        "colab": {
          "base_uri": "https://localhost:8080/"
        },
        "id": "7pe8H12BCqzn",
        "outputId": "4ca46bba-d3f7-43f6-f4b3-1e35d51c8899"
      },
      "execution_count": null,
      "outputs": [
        {
          "output_type": "execute_result",
          "data": {
            "text/plain": [
              "['Asep', 'Bobby', 'Cinta', 'Dimas', 'Edi', 'Fajar']"
            ]
          },
          "metadata": {},
          "execution_count": 18
        }
      ]
    },
    {
      "cell_type": "code",
      "source": [
        "w = nama.pop()\n",
        "w"
      ],
      "metadata": {
        "colab": {
          "base_uri": "https://localhost:8080/",
          "height": 35
        },
        "id": "115OCLM7Cp28",
        "outputId": "ef421541-8fa8-4fa5-9521-022e95355566"
      },
      "execution_count": null,
      "outputs": [
        {
          "output_type": "execute_result",
          "data": {
            "text/plain": [
              "'Fajar'"
            ],
            "application/vnd.google.colaboratory.intrinsic+json": {
              "type": "string"
            }
          },
          "metadata": {},
          "execution_count": 19
        }
      ]
    },
    {
      "cell_type": "code",
      "source": [
        "nama.append('Asep')"
      ],
      "metadata": {
        "id": "O8jo3frLCpxl"
      },
      "execution_count": null,
      "outputs": []
    },
    {
      "cell_type": "code",
      "source": [
        "nama.count('Asep')"
      ],
      "metadata": {
        "colab": {
          "base_uri": "https://localhost:8080/"
        },
        "id": "TdaXZAh9Cpme",
        "outputId": "ca6dd0a3-36b7-42ea-816b-ff995d8bf2d4"
      },
      "execution_count": null,
      "outputs": [
        {
          "output_type": "execute_result",
          "data": {
            "text/plain": [
              "2"
            ]
          },
          "metadata": {},
          "execution_count": 21
        }
      ]
    },
    {
      "cell_type": "code",
      "source": [
        "nama.index('Bobby')"
      ],
      "metadata": {
        "colab": {
          "base_uri": "https://localhost:8080/"
        },
        "id": "NRbN9vVGEJoU",
        "outputId": "624210d7-03cc-4388-95ab-c9f5d01ad674"
      },
      "execution_count": null,
      "outputs": [
        {
          "output_type": "execute_result",
          "data": {
            "text/plain": [
              "1"
            ]
          },
          "metadata": {},
          "execution_count": 22
        }
      ]
    },
    {
      "cell_type": "code",
      "source": [
        "nama.insert(6, 'Gary')"
      ],
      "metadata": {
        "id": "VAOWIZKcEJiF"
      },
      "execution_count": null,
      "outputs": []
    },
    {
      "cell_type": "code",
      "source": [
        "nama"
      ],
      "metadata": {
        "id": "wQ_DvPSZEJZX",
        "colab": {
          "base_uri": "https://localhost:8080/"
        },
        "outputId": "aa3c98d7-e27f-4395-c125-f7f212ba5f48"
      },
      "execution_count": null,
      "outputs": [
        {
          "output_type": "execute_result",
          "data": {
            "text/plain": [
              "['Asep', 'Bobby', 'Cinta', 'Dimas', 'Edi', 'Asep', 'Gary']"
            ]
          },
          "metadata": {},
          "execution_count": 24
        }
      ]
    },
    {
      "cell_type": "code",
      "source": [
        "nama.insert(8, 'Budi')"
      ],
      "metadata": {
        "id": "gCq0jI5IzvzF"
      },
      "execution_count": null,
      "outputs": []
    },
    {
      "cell_type": "code",
      "source": [
        "nama"
      ],
      "metadata": {
        "id": "gGawzA2UEJS0",
        "colab": {
          "base_uri": "https://localhost:8080/"
        },
        "outputId": "790fff81-cb9b-441a-ec98-5f0bb8c8fe0e"
      },
      "execution_count": null,
      "outputs": [
        {
          "output_type": "execute_result",
          "data": {
            "text/plain": [
              "['Asep', 'Bobby', 'Cinta', 'Dimas', 'Edi', 'Asep', 'Gary', 'Budi']"
            ]
          },
          "metadata": {},
          "execution_count": 26
        }
      ]
    },
    {
      "cell_type": "code",
      "source": [
        "kelas = ['Ayu', 'Bunga', 'Citra', 'Dini']\n",
        "kelas"
      ],
      "metadata": {
        "id": "nka3YIq6EJLg",
        "colab": {
          "base_uri": "https://localhost:8080/"
        },
        "outputId": "f0c19e8c-78bf-4fe1-ccd1-06272ce6fe3e"
      },
      "execution_count": null,
      "outputs": [
        {
          "output_type": "execute_result",
          "data": {
            "text/plain": [
              "['Ayu', 'Bunga', 'Citra', 'Dini']"
            ]
          },
          "metadata": {},
          "execution_count": 27
        }
      ]
    },
    {
      "cell_type": "code",
      "source": [
        "kelas.insert(2, 'Emi')"
      ],
      "metadata": {
        "id": "QFPs3gUa7hLp"
      },
      "execution_count": null,
      "outputs": []
    },
    {
      "cell_type": "code",
      "source": [
        "kelas"
      ],
      "metadata": {
        "colab": {
          "base_uri": "https://localhost:8080/"
        },
        "id": "-qD_FtXB7hO6",
        "outputId": "3e14af7d-3fee-4095-a134-49ca862abb39"
      },
      "execution_count": null,
      "outputs": [
        {
          "output_type": "execute_result",
          "data": {
            "text/plain": [
              "['Ayu', 'Bunga', 'Emi', 'Citra', 'Dini']"
            ]
          },
          "metadata": {},
          "execution_count": 29
        }
      ]
    },
    {
      "cell_type": "code",
      "source": [
        "kelas.remove('Bunga')"
      ],
      "metadata": {
        "id": "dXiYHcuw7hR0"
      },
      "execution_count": null,
      "outputs": []
    },
    {
      "cell_type": "code",
      "source": [
        "kelas"
      ],
      "metadata": {
        "colab": {
          "base_uri": "https://localhost:8080/"
        },
        "id": "cXkJe1AV7htK",
        "outputId": "6f770c05-cc1f-46d3-f998-dc2802f48287"
      },
      "execution_count": null,
      "outputs": [
        {
          "output_type": "execute_result",
          "data": {
            "text/plain": [
              "['Ayu', 'Emi', 'Citra', 'Dini']"
            ]
          },
          "metadata": {},
          "execution_count": 31
        }
      ]
    },
    {
      "cell_type": "code",
      "source": [
        "angka = [5,3,6,7,1,2,9]\n",
        "angka.sort()"
      ],
      "metadata": {
        "id": "M1BVOX-i7hwS"
      },
      "execution_count": null,
      "outputs": []
    },
    {
      "cell_type": "code",
      "source": [
        "angka"
      ],
      "metadata": {
        "colab": {
          "base_uri": "https://localhost:8080/"
        },
        "id": "3MNrjM6q7hzF",
        "outputId": "dc247695-3743-4868-f8a6-93f06af1cae9"
      },
      "execution_count": null,
      "outputs": [
        {
          "output_type": "execute_result",
          "data": {
            "text/plain": [
              "[1, 2, 3, 5, 6, 7, 9]"
            ]
          },
          "metadata": {},
          "execution_count": 34
        }
      ]
    },
    {
      "cell_type": "code",
      "source": [
        "angka.sort(reverse=True)\n",
        "angka"
      ],
      "metadata": {
        "colab": {
          "base_uri": "https://localhost:8080/"
        },
        "id": "IFC7wYyO8K8K",
        "outputId": "4af78df1-840f-40fb-a778-dccc8a15c6b1"
      },
      "execution_count": null,
      "outputs": [
        {
          "output_type": "execute_result",
          "data": {
            "text/plain": [
              "[9, 7, 6, 5, 3, 2, 1]"
            ]
          },
          "metadata": {},
          "execution_count": 36
        }
      ]
    },
    {
      "cell_type": "code",
      "source": [
        "angka.reverse()"
      ],
      "metadata": {
        "id": "R9VoaY1r8K4w"
      },
      "execution_count": null,
      "outputs": []
    },
    {
      "cell_type": "code",
      "source": [
        "angka"
      ],
      "metadata": {
        "colab": {
          "base_uri": "https://localhost:8080/"
        },
        "id": "LcF-4oXF8K1e",
        "outputId": "16b2192d-8754-4647-cfc6-552e73748551"
      },
      "execution_count": null,
      "outputs": [
        {
          "output_type": "execute_result",
          "data": {
            "text/plain": [
              "[1, 2, 3, 5, 6, 7, 9]"
            ]
          },
          "metadata": {},
          "execution_count": 38
        }
      ]
    },
    {
      "cell_type": "code",
      "source": [
        "angka_kopi = angka.copy()"
      ],
      "metadata": {
        "id": "0w1HvA7A8KzB"
      },
      "execution_count": null,
      "outputs": []
    },
    {
      "cell_type": "code",
      "source": [
        "angka"
      ],
      "metadata": {
        "colab": {
          "base_uri": "https://localhost:8080/"
        },
        "id": "tjufF5q58Kvm",
        "outputId": "40683516-801c-4191-c714-4a2e93fff877"
      },
      "execution_count": null,
      "outputs": [
        {
          "output_type": "execute_result",
          "data": {
            "text/plain": [
              "[1, 2, 3, 5, 6, 7, 9]"
            ]
          },
          "metadata": {},
          "execution_count": 40
        }
      ]
    },
    {
      "cell_type": "code",
      "source": [
        "angka.append(10)\n",
        "print(angka)\n",
        "print(angka_kopi)"
      ],
      "metadata": {
        "colab": {
          "base_uri": "https://localhost:8080/"
        },
        "id": "ZZU0AVI2-goF",
        "outputId": "58af3ac5-4eb9-4ec0-c74c-078719d779bd"
      },
      "execution_count": null,
      "outputs": [
        {
          "output_type": "stream",
          "name": "stdout",
          "text": [
            "[1, 2, 3, 5, 6, 7, 9, 10]\n",
            "[1, 2, 3, 5, 6, 7, 9]\n"
          ]
        }
      ]
    },
    {
      "cell_type": "code",
      "source": [
        "angka_kopi"
      ],
      "metadata": {
        "colab": {
          "base_uri": "https://localhost:8080/"
        },
        "id": "RGXZGOl78Ksk",
        "outputId": "d6930246-b642-4d4c-9e79-8dbb4fae93bf"
      },
      "execution_count": null,
      "outputs": [
        {
          "output_type": "execute_result",
          "data": {
            "text/plain": [
              "[1, 2, 3, 5, 6, 7, 9]"
            ]
          },
          "metadata": {},
          "execution_count": 41
        }
      ]
    },
    {
      "cell_type": "code",
      "source": [
        "angka_ = angka"
      ],
      "metadata": {
        "id": "VfSyZLZR8Kkm"
      },
      "execution_count": null,
      "outputs": []
    },
    {
      "cell_type": "code",
      "source": [
        "angka_"
      ],
      "metadata": {
        "colab": {
          "base_uri": "https://localhost:8080/"
        },
        "id": "_Ai7kebf-a0D",
        "outputId": "48f3e4ca-0cc6-41fc-f185-a4429339744a"
      },
      "execution_count": null,
      "outputs": [
        {
          "output_type": "execute_result",
          "data": {
            "text/plain": [
              "[1, 2, 3, 5, 6, 7, 9, 10]"
            ]
          },
          "metadata": {},
          "execution_count": 44
        }
      ]
    },
    {
      "cell_type": "code",
      "source": [
        "angka_.clear()\n",
        "angka"
      ],
      "metadata": {
        "colab": {
          "base_uri": "https://localhost:8080/"
        },
        "id": "1wYS7mS2-avj",
        "outputId": "eaee8a79-fbd9-49ad-fafb-4687fba4efa8"
      },
      "execution_count": null,
      "outputs": [
        {
          "output_type": "execute_result",
          "data": {
            "text/plain": [
              "[]"
            ]
          },
          "metadata": {},
          "execution_count": 45
        }
      ]
    },
    {
      "cell_type": "markdown",
      "source": [
        "# Tuple"
      ],
      "metadata": {
        "id": "OVrsm40GJmfh"
      }
    },
    {
      "cell_type": "code",
      "source": [
        "bil_tuple = (10,20,30,40,50)\n",
        "bil_tuple"
      ],
      "metadata": {
        "colab": {
          "base_uri": "https://localhost:8080/"
        },
        "id": "zrpbBIkE-arc",
        "outputId": "a321697a-00fa-4753-fdcd-325324c78e21"
      },
      "execution_count": null,
      "outputs": [
        {
          "output_type": "execute_result",
          "data": {
            "text/plain": [
              "(10, 20, 30, 40, 50)"
            ]
          },
          "metadata": {},
          "execution_count": 46
        }
      ]
    },
    {
      "cell_type": "code",
      "source": [
        "bil_tuple.count(10)"
      ],
      "metadata": {
        "colab": {
          "base_uri": "https://localhost:8080/"
        },
        "id": "uUaK1ZuT-ajp",
        "outputId": "7c7b6aef-9e0a-42f2-b807-49a59f0a0939"
      },
      "execution_count": null,
      "outputs": [
        {
          "output_type": "execute_result",
          "data": {
            "text/plain": [
              "1"
            ]
          },
          "metadata": {},
          "execution_count": 48
        }
      ]
    },
    {
      "cell_type": "code",
      "source": [
        "bil_tuple.index(30)"
      ],
      "metadata": {
        "colab": {
          "base_uri": "https://localhost:8080/"
        },
        "id": "n6oyaYMmJ8wH",
        "outputId": "eacdc03f-d0ef-45dc-8fb1-75aab449ff31"
      },
      "execution_count": null,
      "outputs": [
        {
          "output_type": "execute_result",
          "data": {
            "text/plain": [
              "2"
            ]
          },
          "metadata": {},
          "execution_count": 49
        }
      ]
    },
    {
      "cell_type": "code",
      "source": [
        "bil_tuple[2]"
      ],
      "metadata": {
        "colab": {
          "base_uri": "https://localhost:8080/"
        },
        "id": "tl8NVv8AJ7c9",
        "outputId": "233bbdaa-6441-4ba3-a602-3685069e7867"
      },
      "execution_count": null,
      "outputs": [
        {
          "output_type": "execute_result",
          "data": {
            "text/plain": [
              "30"
            ]
          },
          "metadata": {},
          "execution_count": 50
        }
      ]
    },
    {
      "cell_type": "code",
      "source": [
        "bil_tuple[0:4]"
      ],
      "metadata": {
        "colab": {
          "base_uri": "https://localhost:8080/"
        },
        "id": "kfwzOoHWJ7Y5",
        "outputId": "de5bef49-4699-435a-fb8d-bfcc039e5e85"
      },
      "execution_count": null,
      "outputs": [
        {
          "output_type": "execute_result",
          "data": {
            "text/plain": [
              "(10, 20, 30, 40)"
            ]
          },
          "metadata": {},
          "execution_count": 51
        }
      ]
    },
    {
      "cell_type": "markdown",
      "source": [
        "# Set"
      ],
      "metadata": {
        "id": "hyflKebfKM6T"
      }
    },
    {
      "cell_type": "code",
      "source": [
        "buah = {'apel', 'jeruk', 'mangga', 'melon',  'semangka', 'anggur', 'apel'}\n",
        "buah"
      ],
      "metadata": {
        "colab": {
          "base_uri": "https://localhost:8080/"
        },
        "id": "gl4Vm41BJ7VJ",
        "outputId": "be6fa49c-1f0c-4676-bd6b-f5fbd7801cd1"
      },
      "execution_count": null,
      "outputs": [
        {
          "output_type": "execute_result",
          "data": {
            "text/plain": [
              "{'anggur', 'apel', 'jeruk', 'mangga', 'melon', 'semangka'}"
            ]
          },
          "metadata": {},
          "execution_count": 52
        }
      ]
    },
    {
      "cell_type": "code",
      "source": [
        "len(buah)"
      ],
      "metadata": {
        "colab": {
          "base_uri": "https://localhost:8080/"
        },
        "id": "D7qbHM-EKJFg",
        "outputId": "d4d74115-b25b-4c4d-be97-0ad28ff4ec07"
      },
      "execution_count": null,
      "outputs": [
        {
          "output_type": "execute_result",
          "data": {
            "text/plain": [
              "6"
            ]
          },
          "metadata": {},
          "execution_count": 53
        }
      ]
    },
    {
      "cell_type": "code",
      "source": [
        "buah.add('durian')"
      ],
      "metadata": {
        "id": "f4pmqoMkKJMg"
      },
      "execution_count": null,
      "outputs": []
    },
    {
      "cell_type": "code",
      "source": [
        "buah.update(['manggis', 'nanas'])"
      ],
      "metadata": {
        "id": "g1Y-_f1yKJU2"
      },
      "execution_count": null,
      "outputs": []
    },
    {
      "cell_type": "code",
      "source": [
        "buah"
      ],
      "metadata": {
        "colab": {
          "base_uri": "https://localhost:8080/"
        },
        "id": "aQSsj7xNLPxw",
        "outputId": "5f6ddb2c-7796-41e0-80c0-265ae460d15c"
      },
      "execution_count": null,
      "outputs": [
        {
          "output_type": "execute_result",
          "data": {
            "text/plain": [
              "{'anggur',\n",
              " 'apel',\n",
              " 'durian',\n",
              " 'jeruk',\n",
              " 'mangga',\n",
              " 'manggis',\n",
              " 'melon',\n",
              " 'nanas',\n",
              " 'semangka'}"
            ]
          },
          "metadata": {},
          "execution_count": 56
        }
      ]
    },
    {
      "cell_type": "code",
      "source": [
        "buah.update(['kelapa', 'strawberry'])"
      ],
      "metadata": {
        "id": "sTFdTWJyKJb2"
      },
      "execution_count": null,
      "outputs": []
    },
    {
      "cell_type": "code",
      "source": [
        "buah"
      ],
      "metadata": {
        "colab": {
          "base_uri": "https://localhost:8080/"
        },
        "id": "v8OKUa9sLfzI",
        "outputId": "32504b91-0a07-43e3-f7c6-7f142a2232b7"
      },
      "execution_count": null,
      "outputs": [
        {
          "output_type": "execute_result",
          "data": {
            "text/plain": [
              "{'anggur',\n",
              " 'apel',\n",
              " 'durian',\n",
              " 'jeruk',\n",
              " 'kelapa',\n",
              " 'mangga',\n",
              " 'manggis',\n",
              " 'melon',\n",
              " 'nanas',\n",
              " 'semangka',\n",
              " 'strawberry'}"
            ]
          },
          "metadata": {},
          "execution_count": 58
        }
      ]
    },
    {
      "cell_type": "code",
      "source": [
        "buah.remove('mangga')"
      ],
      "metadata": {
        "id": "UoSKyapfLf5m"
      },
      "execution_count": null,
      "outputs": []
    },
    {
      "cell_type": "code",
      "source": [
        "buah"
      ],
      "metadata": {
        "colab": {
          "base_uri": "https://localhost:8080/"
        },
        "id": "_CANf21NLgAZ",
        "outputId": "b3f871c2-df8c-45b2-9b5d-90c08461a88c"
      },
      "execution_count": null,
      "outputs": [
        {
          "output_type": "execute_result",
          "data": {
            "text/plain": [
              "{'anggur',\n",
              " 'apel',\n",
              " 'durian',\n",
              " 'jeruk',\n",
              " 'kelapa',\n",
              " 'manggis',\n",
              " 'melon',\n",
              " 'nanas',\n",
              " 'semangka',\n",
              " 'strawberry'}"
            ]
          },
          "metadata": {},
          "execution_count": 60
        }
      ]
    },
    {
      "cell_type": "code",
      "source": [
        "buah.remove('mangga')"
      ],
      "metadata": {
        "colab": {
          "base_uri": "https://localhost:8080/",
          "height": 141
        },
        "id": "ai6Dbtk2LgGW",
        "outputId": "b6ec85f5-e1a6-4ae7-b2b3-43ab5570cd0e"
      },
      "execution_count": null,
      "outputs": [
        {
          "output_type": "error",
          "ename": "KeyError",
          "evalue": "'mangga'",
          "traceback": [
            "\u001b[0;31m---------------------------------------------------------------------------\u001b[0m",
            "\u001b[0;31mKeyError\u001b[0m                                  Traceback (most recent call last)",
            "\u001b[0;32m<ipython-input-61-8ce9f3e12085>\u001b[0m in \u001b[0;36m<cell line: 0>\u001b[0;34m()\u001b[0m\n\u001b[0;32m----> 1\u001b[0;31m \u001b[0mbuah\u001b[0m\u001b[0;34m.\u001b[0m\u001b[0mremove\u001b[0m\u001b[0;34m(\u001b[0m\u001b[0;34m'mangga'\u001b[0m\u001b[0;34m)\u001b[0m\u001b[0;34m\u001b[0m\u001b[0;34m\u001b[0m\u001b[0m\n\u001b[0m",
            "\u001b[0;31mKeyError\u001b[0m: 'mangga'"
          ]
        }
      ]
    },
    {
      "cell_type": "code",
      "source": [
        "buah.discard('mangga')"
      ],
      "metadata": {
        "id": "OKypsip3LrQX"
      },
      "execution_count": null,
      "outputs": []
    },
    {
      "cell_type": "code",
      "source": [
        "'semangka' in buah"
      ],
      "metadata": {
        "colab": {
          "base_uri": "https://localhost:8080/"
        },
        "id": "hC9V2ikrLrMd",
        "outputId": "17b4d9d5-9149-4007-9561-b67eeb4af385"
      },
      "execution_count": null,
      "outputs": [
        {
          "output_type": "execute_result",
          "data": {
            "text/plain": [
              "True"
            ]
          },
          "metadata": {},
          "execution_count": 63
        }
      ]
    },
    {
      "cell_type": "code",
      "source": [
        "buah"
      ],
      "metadata": {
        "colab": {
          "base_uri": "https://localhost:8080/"
        },
        "id": "ZM9UQTFaLrIl",
        "outputId": "13d7050c-e1ca-4db5-fb18-4f583307bd30"
      },
      "execution_count": null,
      "outputs": [
        {
          "output_type": "execute_result",
          "data": {
            "text/plain": [
              "{'anggur',\n",
              " 'apel',\n",
              " 'durian',\n",
              " 'jeruk',\n",
              " 'kelapa',\n",
              " 'manggis',\n",
              " 'melon',\n",
              " 'nanas',\n",
              " 'semangka',\n",
              " 'strawberry'}"
            ]
          },
          "metadata": {},
          "execution_count": 70
        }
      ]
    },
    {
      "cell_type": "code",
      "source": [
        "buah.difference({'pisang', 'manggis', 'durian'})"
      ],
      "metadata": {
        "colab": {
          "base_uri": "https://localhost:8080/"
        },
        "id": "ZLefchG7LrEu",
        "outputId": "4566b689-a67d-4de2-daf1-7c75bce1d6a1"
      },
      "execution_count": null,
      "outputs": [
        {
          "output_type": "execute_result",
          "data": {
            "text/plain": [
              "{'anggur',\n",
              " 'apel',\n",
              " 'jeruk',\n",
              " 'kelapa',\n",
              " 'melon',\n",
              " 'nanas',\n",
              " 'semangka',\n",
              " 'strawberry'}"
            ]
          },
          "metadata": {},
          "execution_count": 71
        }
      ]
    },
    {
      "cell_type": "code",
      "source": [
        "buah.intersection({'pisang', 'manggis', 'durian'})"
      ],
      "metadata": {
        "colab": {
          "base_uri": "https://localhost:8080/"
        },
        "id": "vYik99ZgLq5a",
        "outputId": "ddc25f73-6482-45ba-a9a3-48bff0270aaa"
      },
      "execution_count": null,
      "outputs": [
        {
          "output_type": "execute_result",
          "data": {
            "text/plain": [
              "{'durian', 'manggis'}"
            ]
          },
          "metadata": {},
          "execution_count": 72
        }
      ]
    },
    {
      "cell_type": "code",
      "source": [
        "{'pisang', 'manggis', 'durian'}.difference(buah)"
      ],
      "metadata": {
        "colab": {
          "base_uri": "https://localhost:8080/"
        },
        "id": "I5e0CtOIMk_j",
        "outputId": "2c2fa78e-0e8e-47c6-f9e1-8ca83e01a7fa"
      },
      "execution_count": null,
      "outputs": [
        {
          "output_type": "execute_result",
          "data": {
            "text/plain": [
              "{'pisang'}"
            ]
          },
          "metadata": {},
          "execution_count": 73
        }
      ]
    },
    {
      "cell_type": "code",
      "source": [
        "buah.union({'pisang', 'manggis', 'durian'})"
      ],
      "metadata": {
        "colab": {
          "base_uri": "https://localhost:8080/"
        },
        "id": "EMyhY0NsMk8T",
        "outputId": "a9cb8c85-7190-4bd4-ded6-d85a9d79aa38"
      },
      "execution_count": null,
      "outputs": [
        {
          "output_type": "execute_result",
          "data": {
            "text/plain": [
              "{'anggur',\n",
              " 'apel',\n",
              " 'durian',\n",
              " 'jeruk',\n",
              " 'kelapa',\n",
              " 'manggis',\n",
              " 'melon',\n",
              " 'nanas',\n",
              " 'pisang',\n",
              " 'semangka',\n",
              " 'strawberry'}"
            ]
          },
          "metadata": {},
          "execution_count": 74
        }
      ]
    },
    {
      "cell_type": "markdown",
      "source": [
        "# Dictionary"
      ],
      "metadata": {
        "id": "ubDkG6tzM0tJ"
      }
    },
    {
      "cell_type": "code",
      "source": [
        "pegawai = {\n",
        "    'Nama': 'Dicky',\n",
        "    'Usia': 30,\n",
        "    'Pekerjaan': 'Karyawan',\n",
        "    'Dept': 'Sales'\n",
        "}\n",
        "pegawai"
      ],
      "metadata": {
        "colab": {
          "base_uri": "https://localhost:8080/"
        },
        "id": "FsWKazlLMk41",
        "outputId": "7705da75-a688-4cb4-938d-1bb9418fe5b6"
      },
      "execution_count": null,
      "outputs": [
        {
          "output_type": "execute_result",
          "data": {
            "text/plain": [
              "{'Nama': 'Dicky', 'Usia': 30, 'Pekerjaan': 'Karyawan', 'Dept': 'Sales'}"
            ]
          },
          "metadata": {},
          "execution_count": 79
        }
      ]
    },
    {
      "cell_type": "code",
      "source": [
        "pegawai['Nama']"
      ],
      "metadata": {
        "colab": {
          "base_uri": "https://localhost:8080/",
          "height": 35
        },
        "id": "eAzUGvJ7Mk1D",
        "outputId": "642d96e7-0ad0-4b14-fe5b-8d73a5fe8add"
      },
      "execution_count": null,
      "outputs": [
        {
          "output_type": "execute_result",
          "data": {
            "text/plain": [
              "'Dicky'"
            ],
            "application/vnd.google.colaboratory.intrinsic+json": {
              "type": "string"
            }
          },
          "metadata": {},
          "execution_count": 80
        }
      ]
    },
    {
      "cell_type": "code",
      "source": [
        "pegawai['Nama'] = 'Fikri'\n",
        "pegawai"
      ],
      "metadata": {
        "colab": {
          "base_uri": "https://localhost:8080/"
        },
        "id": "0yENrSj8RBbX",
        "outputId": "3459d448-a612-4ca3-ecfa-6d0f83087243"
      },
      "execution_count": null,
      "outputs": [
        {
          "output_type": "execute_result",
          "data": {
            "text/plain": [
              "{'Nama': 'Fikri', 'Usia': 30, 'Pekerjaan': 'Karyawan', 'Dept': 'Sales'}"
            ]
          },
          "metadata": {},
          "execution_count": 81
        }
      ]
    },
    {
      "cell_type": "code",
      "source": [
        "pegawai['Gaji'] = 5000000\n",
        "pegawai"
      ],
      "metadata": {
        "colab": {
          "base_uri": "https://localhost:8080/"
        },
        "id": "Ol91GKzLRBUZ",
        "outputId": "13b4e096-850d-420a-d8d5-ff1bb1fdeceb"
      },
      "execution_count": null,
      "outputs": [
        {
          "output_type": "execute_result",
          "data": {
            "text/plain": [
              "{'Nama': 'Fikri',\n",
              " 'Usia': 30,\n",
              " 'Pekerjaan': 'Karyawan',\n",
              " 'Dept': 'Sales',\n",
              " 'Gaji': 5000000}"
            ]
          },
          "metadata": {},
          "execution_count": 82
        }
      ]
    },
    {
      "cell_type": "code",
      "source": [
        "del pegawai['Gaji']"
      ],
      "metadata": {
        "id": "dnBiNzHARBIp"
      },
      "execution_count": null,
      "outputs": []
    },
    {
      "cell_type": "code",
      "source": [
        "pegawai"
      ],
      "metadata": {
        "colab": {
          "base_uri": "https://localhost:8080/"
        },
        "id": "-ud3fsLNRBE7",
        "outputId": "b6a76be7-8d6d-412f-e4f9-16ab4ada80ba"
      },
      "execution_count": null,
      "outputs": [
        {
          "output_type": "execute_result",
          "data": {
            "text/plain": [
              "{'Nama': 'Fikri', 'Usia': 30, 'Pekerjaan': 'Karyawan', 'Dept': 'Sales'}"
            ]
          },
          "metadata": {},
          "execution_count": 84
        }
      ]
    },
    {
      "cell_type": "code",
      "source": [
        "pegawai.keys()"
      ],
      "metadata": {
        "colab": {
          "base_uri": "https://localhost:8080/"
        },
        "id": "nfqn8NEcRBBe",
        "outputId": "595922db-130f-435a-e6ff-e90389fcaac2"
      },
      "execution_count": null,
      "outputs": [
        {
          "output_type": "execute_result",
          "data": {
            "text/plain": [
              "dict_keys(['Nama', 'Usia', 'Pekerjaan', 'Dept'])"
            ]
          },
          "metadata": {},
          "execution_count": 85
        }
      ]
    },
    {
      "cell_type": "code",
      "source": [
        "pegawai.values()"
      ],
      "metadata": {
        "colab": {
          "base_uri": "https://localhost:8080/"
        },
        "id": "_IIEtiZ6RA_P",
        "outputId": "23adeaba-031a-4484-c7f7-210b9c77d020"
      },
      "execution_count": null,
      "outputs": [
        {
          "output_type": "execute_result",
          "data": {
            "text/plain": [
              "dict_values(['Fikri', 30, 'Karyawan', 'Sales'])"
            ]
          },
          "metadata": {},
          "execution_count": 86
        }
      ]
    },
    {
      "cell_type": "code",
      "source": [
        "pegawai.items()"
      ],
      "metadata": {
        "colab": {
          "base_uri": "https://localhost:8080/"
        },
        "id": "1iIvr2xARhOv",
        "outputId": "34ff0eaa-4c96-46b5-813c-8c0c39c90c05"
      },
      "execution_count": null,
      "outputs": [
        {
          "output_type": "execute_result",
          "data": {
            "text/plain": [
              "dict_items([('Nama', 'Fikri'), ('Usia', 30), ('Pekerjaan', 'Karyawan'), ('Dept', 'Sales')])"
            ]
          },
          "metadata": {},
          "execution_count": 87
        }
      ]
    },
    {
      "cell_type": "code",
      "source": [
        "for key, value in pegawai.items():\n",
        "  print(f\"{key} : {value}\")"
      ],
      "metadata": {
        "colab": {
          "base_uri": "https://localhost:8080/"
        },
        "id": "VfXcUd9FRhL3",
        "outputId": "8273a49d-e3cb-41f0-eaa0-e4010f0623b1"
      },
      "execution_count": null,
      "outputs": [
        {
          "output_type": "stream",
          "name": "stdout",
          "text": [
            "Nama : Fikri\n",
            "Usia : 30\n",
            "Pekerjaan : Karyawan\n",
            "Dept : Sales\n"
          ]
        }
      ]
    },
    {
      "cell_type": "code",
      "source": [
        "copy_pegawai = pegawai.copy()\n",
        "copy_pegawai"
      ],
      "metadata": {
        "colab": {
          "base_uri": "https://localhost:8080/"
        },
        "id": "kBBG2XsDRhI4",
        "outputId": "95f1b2de-51b8-4d71-a858-4f294f6a7424"
      },
      "execution_count": null,
      "outputs": [
        {
          "output_type": "execute_result",
          "data": {
            "text/plain": [
              "{'Nama': 'Fikri', 'Usia': 30, 'Pekerjaan': 'Karyawan', 'Dept': 'Sales'}"
            ]
          },
          "metadata": {},
          "execution_count": 89
        }
      ]
    },
    {
      "cell_type": "code",
      "source": [
        "pegawai[\"Gaji\"] = 10000000\n",
        "pegawai"
      ],
      "metadata": {
        "colab": {
          "base_uri": "https://localhost:8080/"
        },
        "id": "TiUSAVm7RhFy",
        "outputId": "8d1c9dff-ddf6-4470-94ea-3fd856e86b2c"
      },
      "execution_count": null,
      "outputs": [
        {
          "output_type": "execute_result",
          "data": {
            "text/plain": [
              "{'Nama': 'Fikri',\n",
              " 'Usia': 30,\n",
              " 'Pekerjaan': 'Karyawan',\n",
              " 'Dept': 'Sales',\n",
              " 'Gaji': 10000000}"
            ]
          },
          "metadata": {},
          "execution_count": 91
        }
      ]
    },
    {
      "cell_type": "code",
      "source": [
        "copy_pegawai"
      ],
      "metadata": {
        "colab": {
          "base_uri": "https://localhost:8080/"
        },
        "id": "h9h-Ajm1R3xJ",
        "outputId": "8bcf1568-0ae6-4d62-ed17-9e0ced10012e"
      },
      "execution_count": null,
      "outputs": [
        {
          "output_type": "execute_result",
          "data": {
            "text/plain": [
              "{'Nama': 'Fikri', 'Usia': 30, 'Pekerjaan': 'Karyawan', 'Dept': 'Sales'}"
            ]
          },
          "metadata": {},
          "execution_count": 92
        }
      ]
    },
    {
      "cell_type": "code",
      "source": [
        "copy_pegawai.clear()\n",
        "copy_pegawai"
      ],
      "metadata": {
        "id": "aI8BjQ7NR8lD",
        "outputId": "697825f3-d179-41c9-dd71-c4ff0af8d1a3",
        "colab": {
          "base_uri": "https://localhost:8080/"
        }
      },
      "execution_count": null,
      "outputs": [
        {
          "output_type": "execute_result",
          "data": {
            "text/plain": [
              "{}"
            ]
          },
          "metadata": {},
          "execution_count": 93
        }
      ]
    }
  ]
}